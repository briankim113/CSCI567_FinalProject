{
 "cells": [
  {
   "attachments": {},
   "cell_type": "markdown",
   "metadata": {},
   "source": [
    "# Start"
   ]
  },
  {
   "cell_type": "code",
   "execution_count": null,
   "metadata": {},
   "outputs": [],
   "source": [
    "import numpy as np\n",
    "import pandas as pd"
   ]
  },
  {
   "cell_type": "code",
   "execution_count": null,
   "metadata": {},
   "outputs": [],
   "source": [
    "train_values = pd.read_csv('csv_original/train_values.csv', index_col='building_id')\n",
    "train_labels = pd.read_csv('csv_original/train_labels.csv', index_col='building_id')"
   ]
  },
  {
   "attachments": {},
   "cell_type": "markdown",
   "metadata": {},
   "source": [
    "# Feature Selection (Original)"
   ]
  },
  {
   "cell_type": "code",
   "execution_count": null,
   "metadata": {},
   "outputs": [],
   "source": [
    "selected_features = ['foundation_type', \n",
    "                     'area_percentage', \n",
    "                     'height_percentage',\n",
    "                     'count_floors_pre_eq',\n",
    "                     'land_surface_condition',\n",
    "                     'has_superstructure_cement_mortar_stone']\n",
    "\n",
    "train_values_subset = train_values[selected_features]\n",
    "sns.pairplot(train_values_subset.join(train_labels), hue='damage_grade')"
   ]
  },
  {
   "cell_type": "code",
   "execution_count": null,
   "metadata": {},
   "outputs": [],
   "source": [
    "#get_dummies performs one-hot encoding\n",
    "train_values_subset = pd.get_dummies(train_values_subset)\n",
    "train_values_subset"
   ]
  },
  {
   "attachments": {},
   "cell_type": "markdown",
   "metadata": {},
   "source": [
    "# Extra Tree Ensemble (ET)"
   ]
  },
  {
   "cell_type": "code",
   "execution_count": null,
   "metadata": {},
   "outputs": [],
   "source": [
    "# TRY 2: 4 features from Paper 1\n",
    "# selected_features = ['area_percentage', \n",
    "#                      'height_percentage',\n",
    "#                      'count_floors_pre_eq',\n",
    "#                      'age']\n",
    "# train_values_subset = train_values[selected_features]\n",
    "\n",
    "train_values_subset = pd.get_dummies(train_values)"
   ]
  },
  {
   "cell_type": "code",
   "execution_count": null,
   "metadata": {},
   "outputs": [],
   "source": [
    "# for preprocessing the data\n",
    "from sklearn.preprocessing import StandardScaler\n",
    "\n",
    "# the model\n",
    "from sklearn.ensemble import ExtraTreesClassifier\n",
    "\n",
    "# for combining the preprocess with model training\n",
    "from sklearn.pipeline import make_pipeline\n",
    "\n",
    "# for optimizing the hyperparameters of the pipeline\n",
    "from sklearn.model_selection import GridSearchCV"
   ]
  },
  {
   "cell_type": "code",
   "execution_count": null,
   "metadata": {},
   "outputs": [],
   "source": [
    "#getting rid of random_state=2018\n",
    "pipe = make_pipeline(StandardScaler(), \n",
    "                     ExtraTreesClassifier())\n",
    "pipe"
   ]
  },
  {
   "cell_type": "code",
   "execution_count": null,
   "metadata": {},
   "outputs": [],
   "source": [
    "# #TRY 1: tuning hyperparameters, same as RF example\n",
    "# #the ET paper uses three: n_estimators, max_features, min_samples_split\n",
    "# #but says there was no significant improvement in accuracy\n",
    "\n",
    "# #for Nepal, hyperparameters not so different but based on other earthquakes\n",
    "# param_grid = {'extratreesclassifier__n_estimators': [50, 100], #more trees the better it seems\n",
    "#               'extratreesclassifier__max_features' : [4, 6], #instead of using all the selected_features, let the estimator decide max_features\n",
    "#               'extratreesclassifier__min_samples_leaf': [1, 5]} #4-6 sample size per split seems ideal\n",
    "# gs = GridSearchCV(pipe, param_grid, cv=5) #default 5-fold cross validation\n",
    "\n",
    "#TRY 2: using Shivam's hyperparameter search, 4 selected features from Paper 1\n",
    "#TRY 3: using Shivam's hyperparameter search, all features\n",
    "param_grid = {'extratreesclassifier__n_estimators': [1, 125],\n",
    "              'extratreesclassifier__max_depth' : [1, 15],\n",
    "              'extratreesclassifier__min_samples_leaf': [1, 2]}\n",
    "gs = GridSearchCV(pipe, param_grid, cv=5) #default 5-fold cross validation"
   ]
  },
  {
   "cell_type": "code",
   "execution_count": null,
   "metadata": {},
   "outputs": [],
   "source": [
    "#check to see what are the string names for hyperparameters\n",
    "gs.get_params().keys()"
   ]
  },
  {
   "cell_type": "code",
   "execution_count": null,
   "metadata": {},
   "outputs": [],
   "source": [
    "#make sure that I do feature selection again (including get_dummies)\n",
    "#and reassign train_values_subset if I want to try different features\n",
    "gs.fit(train_values_subset, train_labels.values.ravel())"
   ]
  },
  {
   "cell_type": "code",
   "execution_count": null,
   "metadata": {},
   "outputs": [],
   "source": [
    "gs.best_params_\n",
    "#BLOG: min_samples_leaf = 5, n_estimators = 100\n",
    "#BASE: min_samples_leaf = 1 and n_estimators = 50\n",
    "#TRY1: leaf = 5, estimators = 100, features = 6\n",
    "#TRY2: leaf = 2, estimators = 125, depth = 15\n",
    "#TRY3: leaf = 2, estimators = 125, depth = 15"
   ]
  },
  {
   "cell_type": "code",
   "execution_count": null,
   "metadata": {},
   "outputs": [],
   "source": [
    "from sklearn.metrics import f1_score\n",
    "\n",
    "in_sample_preds = gs.predict(train_values_subset)\n",
    "#in_sample_preds = gs.predict(train_values_set)\n",
    "f1_score(train_labels, in_sample_preds, average='micro') #using micro f1 score, perfect score = 1\n",
    "\n",
    "#BLOG: 0.5894183 for RF\n",
    "#BASE: 0.59438 for ET\n",
    "#TRY1: 0.5840538 with max_features\n",
    "#TRY2: 0.5804736 with Shivam's hyperparameters and 4 selected features from Paper 1\n",
    "#TRY3: 0.64818247 with Shivam's hyperparameters but all features"
   ]
  },
  {
   "attachments": {},
   "cell_type": "markdown",
   "metadata": {},
   "source": [
    "# LightGBM lgb1, lgb2"
   ]
  },
  {
   "cell_type": "code",
   "execution_count": null,
   "metadata": {},
   "outputs": [],
   "source": [
    "import lightgbm as lgb #pip3 install lightgbm && brew install libomp"
   ]
  },
  {
   "cell_type": "code",
   "execution_count": null,
   "metadata": {},
   "outputs": [],
   "source": [
    "# one-hot-encoding\n",
    "train_values_df = pd.get_dummies(train_values)"
   ]
  },
  {
   "cell_type": "code",
   "execution_count": null,
   "metadata": {},
   "outputs": [],
   "source": [
    "# convert dataframes (or numpy array) to lgb dataset\n",
    "train_data = lgb.Dataset(train_values_df, label=train_labels)"
   ]
  },
  {
   "cell_type": "code",
   "execution_count": null,
   "metadata": {},
   "outputs": [],
   "source": [
    "# parameters\n",
    "param = {\n",
    "  'objective':'multiclass',\n",
    "  'num_class':4, # since we have values 1, 2, and 3 (3 will only allow 0, 1, 2)\n",
    "  'max_leaves':2, # lgb1\n",
    "  'max_depth':15, # lgb1\n",
    "  'n_estimators':125, # lgb1\n",
    "  #'max_leaves':131072, # lgb2 (no limit)\n",
    "  #'max_depth':10, # lgb2\n",
    "  #'n_estimators':200, # lgb2\n",
    "}"
   ]
  },
  {
   "cell_type": "code",
   "execution_count": null,
   "metadata": {},
   "outputs": [],
   "source": [
    "# train our model\n",
    "bst = lgb.train(param, train_data)"
   ]
  },
  {
   "cell_type": "code",
   "execution_count": null,
   "metadata": {},
   "outputs": [],
   "source": [
    "# save model after training\n",
    "bst.save_model('model.txt')"
   ]
  },
  {
   "cell_type": "code",
   "execution_count": null,
   "metadata": {},
   "outputs": [],
   "source": [
    "# get the optimal hyperparameters\n",
    "eval_hist = lgb.cv(param, train_data, nfold=5)\n",
    "eval_hist"
   ]
  },
  {
   "cell_type": "code",
   "execution_count": null,
   "metadata": {},
   "outputs": [],
   "source": [
    "# predict labels\n",
    "ypred = bst.predict(train_values_df)\n",
    "ypred"
   ]
  },
  {
   "cell_type": "code",
   "execution_count": null,
   "metadata": {},
   "outputs": [],
   "source": [
    "# make it [1,2,3]\n",
    "ypred_arg = [np.argmax(line) for line in ypred]\n",
    "ypred_arg"
   ]
  },
  {
   "cell_type": "code",
   "execution_count": null,
   "metadata": {},
   "outputs": [],
   "source": [
    "# score\n",
    "from sklearn.metrics import f1_score\n",
    "f1_score(train_labels, ypred_arg, average='micro') #using micro f1 score, perfect score = 1\n",
    "#lgb1: 0.6387, lgb2: 0.81"
   ]
  },
  {
   "cell_type": "code",
   "execution_count": null,
   "metadata": {},
   "outputs": [],
   "source": [
    "# read test CSV\n",
    "test_values = pd.read_csv('test_values.csv', index_col='building_id')"
   ]
  },
  {
   "cell_type": "code",
   "execution_count": null,
   "metadata": {},
   "outputs": [],
   "source": [
    "#use the same selected features on test_values as train_values\n",
    "#test_values_subset = pd.get_dummies(test_values[selected_features])\n",
    "test_values_subset = pd.get_dummies(test_values)"
   ]
  },
  {
   "cell_type": "code",
   "execution_count": null,
   "metadata": {},
   "outputs": [],
   "source": [
    "predictions = bst.predict(test_values_subset)\n",
    "predictions"
   ]
  },
  {
   "cell_type": "code",
   "execution_count": null,
   "metadata": {},
   "outputs": [],
   "source": [
    "# make it [1,2,3]\n",
    "predictions_arg = [np.argmax(line) for line in predictions]\n",
    "predictions_arg"
   ]
  },
  {
   "cell_type": "code",
   "execution_count": null,
   "metadata": {},
   "outputs": [],
   "source": [
    "submission_format = pd.read_csv('submission_format.csv', index_col='building_id')"
   ]
  },
  {
   "cell_type": "code",
   "execution_count": null,
   "metadata": {},
   "outputs": [],
   "source": [
    "my_submission = pd.DataFrame(data=predictions_arg,\n",
    "                             columns=submission_format.columns,\n",
    "                             index=submission_format.index)"
   ]
  },
  {
   "cell_type": "code",
   "execution_count": null,
   "metadata": {},
   "outputs": [],
   "source": [
    "my_submission.head()"
   ]
  },
  {
   "cell_type": "code",
   "execution_count": null,
   "metadata": {},
   "outputs": [],
   "source": [
    "#create a csv file that will be submitted to DrivenData\n",
    "my_submission.to_csv('submission_lgb1.csv')"
   ]
  },
  {
   "cell_type": "code",
   "execution_count": null,
   "metadata": {},
   "outputs": [],
   "source": [
    "!head submission_lgb1.csv #0.6368\n",
    "!head submission_lgb2.csv #0.7426"
   ]
  },
  {
   "attachments": {},
   "cell_type": "markdown",
   "metadata": {},
   "source": [
    "# LightGBM (with GridSearch) lgb3"
   ]
  },
  {
   "cell_type": "code",
   "execution_count": null,
   "metadata": {},
   "outputs": [],
   "source": [
    "# one-hot-encoding\n",
    "train_values_df = pd.get_dummies(train_values)\n",
    "len(train_values_df.columns)"
   ]
  },
  {
   "cell_type": "code",
   "execution_count": null,
   "metadata": {},
   "outputs": [],
   "source": [
    "# convert dataframes (or numpy array) to lgb dataset\n",
    "# train_data = lgb.Dataset(train_values_df, label=train_labels)"
   ]
  },
  {
   "cell_type": "code",
   "execution_count": null,
   "metadata": {},
   "outputs": [],
   "source": [
    "import lightgbm as lgb #pip3 install lightgbm && brew install libomp\n",
    "\n",
    "# for preprocessing the data\n",
    "from sklearn.preprocessing import StandardScaler\n",
    "\n",
    "# for combining the preprocess with model training\n",
    "from sklearn.pipeline import Pipeline\n",
    "\n",
    "# for optimizing the hyperparameters of the pipeline\n",
    "from sklearn.model_selection import GridSearchCV"
   ]
  },
  {
   "cell_type": "code",
   "execution_count": null,
   "metadata": {},
   "outputs": [],
   "source": [
    "pipe = Pipeline([('scaler', StandardScaler()), ('lgb', lgb.LGBMClassifier(random_state=2018,#))])\n",
    "                                                                         # max_leaves=0,\n",
    "                                                                         max_depth=10, n_estimators=200))])\n",
    "pipe"
   ]
  },
  {
   "cell_type": "code",
   "execution_count": null,
   "metadata": {},
   "outputs": [],
   "source": [
    "#max_leaves=0, max_depth=10, n_estimators=200\n",
    "param_grid = {\n",
    "    #'lgb__num_leaves'    : [2, 5, 10, 15, 20, 25, 31],      #default=31, where > 1 (max_leaves is not a feature)\n",
    "    #'lgb__max_depth'     : [0, 2, 5, 10],                   #default=-1, where <=0 means no limit\n",
    "    #'lgb__n_estimators'  : [100, 150, 200],                 #default=100\n",
    "}"
   ]
  },
  {
   "cell_type": "code",
   "execution_count": null,
   "metadata": {},
   "outputs": [],
   "source": [
    "gbm = GridSearchCV(pipe, param_grid, cv=5)\n",
    "#gbm.get_params\n",
    "gbm.fit(train_values_df, train_labels.values.ravel())"
   ]
  },
  {
   "cell_type": "code",
   "execution_count": null,
   "metadata": {},
   "outputs": [],
   "source": [
    "print(gbm.best_params_) \n",
    "print(gbm.best_score_)"
   ]
  },
  {
   "cell_type": "code",
   "execution_count": null,
   "metadata": {},
   "outputs": [],
   "source": [
    "from sklearn.metrics import f1_score\n",
    "\n",
    "in_sample_preds = gbm.predict(train_values_df)\n",
    "f1_score(train_labels, in_sample_preds, average='micro') #0.733"
   ]
  },
  {
   "cell_type": "code",
   "execution_count": null,
   "metadata": {},
   "outputs": [],
   "source": [
    "# read test CSV\n",
    "test_values = pd.read_csv('test_values.csv', index_col='building_id')"
   ]
  },
  {
   "cell_type": "code",
   "execution_count": null,
   "metadata": {},
   "outputs": [],
   "source": [
    "#use the same selected features on test_values as train_values\n",
    "#test_values_subset = pd.get_dummies(test_values[selected_features])\n",
    "test_values_subset = pd.get_dummies(test_values)"
   ]
  },
  {
   "cell_type": "code",
   "execution_count": null,
   "metadata": {},
   "outputs": [],
   "source": [
    "predictions = gbm.predict(test_values_subset)"
   ]
  },
  {
   "cell_type": "code",
   "execution_count": null,
   "metadata": {},
   "outputs": [],
   "source": [
    "my_submission = pd.DataFrame(data=predictions,\n",
    "                             columns=submission_format.columns,\n",
    "                             index=submission_format.index)"
   ]
  },
  {
   "cell_type": "code",
   "execution_count": null,
   "metadata": {},
   "outputs": [],
   "source": [
    "my_submission.head()"
   ]
  },
  {
   "cell_type": "code",
   "execution_count": null,
   "metadata": {},
   "outputs": [],
   "source": [
    "#create a csv file that will be submitted to DrivenData\n",
    "my_submission.to_csv('submission_lgb3.csv')"
   ]
  },
  {
   "cell_type": "code",
   "execution_count": null,
   "metadata": {},
   "outputs": [],
   "source": [
    "!head submission_lgb3.csv"
   ]
  },
  {
   "attachments": {},
   "cell_type": "markdown",
   "metadata": {},
   "source": [
    "# Catboost (with GridSearch) cbc1"
   ]
  },
  {
   "cell_type": "code",
   "execution_count": null,
   "metadata": {},
   "outputs": [],
   "source": [
    "# one-hot-encoding\n",
    "train_values_df = pd.get_dummies(train_values)\n",
    "len(train_values_df.columns)"
   ]
  },
  {
   "cell_type": "code",
   "execution_count": null,
   "metadata": {},
   "outputs": [],
   "source": [
    "from catboost import CatBoostClassifier\n",
    "\n",
    "# for preprocessing the data\n",
    "from sklearn.preprocessing import StandardScaler\n",
    "\n",
    "# for combining the preprocess with model training\n",
    "from sklearn.pipeline import Pipeline\n",
    "\n",
    "# for optimizing the hyperparameters of the pipeline\n",
    "from sklearn.model_selection import GridSearchCV"
   ]
  },
  {
   "cell_type": "code",
   "execution_count": null,
   "metadata": {},
   "outputs": [],
   "source": [
    "pipe = Pipeline([('scaler', StandardScaler()), ('cbc', CatBoostClassifier(random_state=2018,#))])\n",
    "                                                                         #max_leaves=0,\n",
    "                                                                         max_depth=10, n_estimators=200))])\n",
    "pipe"
   ]
  },
  {
   "cell_type": "code",
   "execution_count": null,
   "metadata": {},
   "outputs": [],
   "source": [
    "param_grid = {\n",
    "#     'cbc__max_leaves'    : list(range(2, 31)),       #default=31, not recommended to use above 64\n",
    "#     'cbc__max_depth'     : list(range(1, 10)),       #default=6\n",
    "#     'cbc__n_estimators'  : [100, 150, 200, 1000],    #default=1000\n",
    "}"
   ]
  },
  {
   "cell_type": "code",
   "execution_count": null,
   "metadata": {},
   "outputs": [],
   "source": [
    "cbc = GridSearchCV(pipe, param_grid, cv=5)\n",
    "#gbm.get_params\n",
    "cbc.fit(train_values_df, train_labels.values.ravel())"
   ]
  },
  {
   "cell_type": "code",
   "execution_count": null,
   "metadata": {},
   "outputs": [],
   "source": [
    "from sklearn.metrics import f1_score\n",
    "\n",
    "in_sample_preds = cbc.predict(train_values_df)\n",
    "f1_score(train_labels, in_sample_preds, average='micro') #0.7774"
   ]
  },
  {
   "cell_type": "code",
   "execution_count": null,
   "metadata": {},
   "outputs": [],
   "source": [
    "# read test CSV\n",
    "test_values = pd.read_csv('test_values.csv', index_col='building_id')\n",
    "\n",
    "#test_values_subset = pd.get_dummies(test_values[selected_features])\n",
    "test_values_subset = pd.get_dummies(test_values)"
   ]
  },
  {
   "cell_type": "code",
   "execution_count": null,
   "metadata": {},
   "outputs": [],
   "source": [
    "predictions = cbc.predict(test_values_subset)\n",
    "my_submission = pd.DataFrame(data=predictions,\n",
    "                             columns=submission_format.columns,\n",
    "                             index=submission_format.index)"
   ]
  },
  {
   "cell_type": "code",
   "execution_count": null,
   "metadata": {},
   "outputs": [],
   "source": [
    "#create a csv file that will be submitted to DrivenData\n",
    "my_submission.to_csv('submission_cbc1.csv')"
   ]
  },
  {
   "cell_type": "code",
   "execution_count": null,
   "metadata": {},
   "outputs": [],
   "source": [
    "!head submission_cbc1.csv"
   ]
  },
  {
   "attachments": {},
   "cell_type": "markdown",
   "metadata": {},
   "source": [
    "# Catboost cbc2 / cbc3"
   ]
  },
  {
   "cell_type": "code",
   "execution_count": null,
   "metadata": {},
   "outputs": [],
   "source": [
    "import catboost as cb"
   ]
  },
  {
   "cell_type": "code",
   "execution_count": null,
   "metadata": {},
   "outputs": [],
   "source": [
    "categorical_features_indices = np.where(train_values.dtypes != int)[0]\n",
    "categorical_features_indices"
   ]
  },
  {
   "cell_type": "code",
   "execution_count": 38,
   "metadata": {},
   "outputs": [],
   "source": [
    "model = cb.CatBoostClassifier()"
   ]
  },
  {
   "cell_type": "code",
   "execution_count": 39,
   "metadata": {},
   "outputs": [
    {
     "data": {
      "text/plain": [
       "<catboost.core.CatBoostClassifier at 0x123679a60>"
      ]
     },
     "execution_count": 39,
     "metadata": {},
     "output_type": "execute_result"
    }
   ],
   "source": [
    "#model.set_params(n_estimators=200, max_depth=10) #max_leaves no limit\n",
    "model.set_params(n_estimators=325, max_depth=16, #max is 16 in catboost\n",
    "                 eta = 0.060000000000000005,random_state=42,\n",
    "                 colsample_bylevel = 1.0,\n",
    "                 reg_lambda = 1.4200000000000002,\n",
    "                )\n",
    "# subsample = 0.8 -> bayesian doesn't support taken fraction option\n",
    "# objective = \"multiclass\" loss not supported\n",
    "# not used: tree_method/task_type, max_leaves, colsample_bytree, min_child_weight, gamma, reg_alpha, num_class/classes_count"
   ]
  },
  {
   "cell_type": "code",
   "execution_count": 40,
   "metadata": {},
   "outputs": [
    {
     "name": "stdout",
     "output_type": "stream",
     "text": [
      "0:\tlearn: 1.0616970\ttotal: 36.8s\tremaining: 3h 18m 38s\n",
      "1:\tlearn: 1.0275927\ttotal: 1m 24s\tremaining: 3h 48m 38s\n",
      "2:\tlearn: 0.9998627\ttotal: 1m 26s\tremaining: 2h 34m 44s\n",
      "3:\tlearn: 0.9728956\ttotal: 2m 18s\tremaining: 3h 5m 15s\n",
      "4:\tlearn: 0.9485669\ttotal: 3m 13s\tremaining: 3h 26m 33s\n",
      "5:\tlearn: 0.9274250\ttotal: 3m 59s\tremaining: 3h 32m 6s\n",
      "6:\tlearn: 0.9081345\ttotal: 4m 44s\tremaining: 3h 35m 31s\n",
      "7:\tlearn: 0.8905140\ttotal: 5m 27s\tremaining: 3h 36m\n",
      "8:\tlearn: 0.8740088\ttotal: 6m 8s\tremaining: 3h 35m 31s\n",
      "9:\tlearn: 0.8589200\ttotal: 6m 51s\tremaining: 3h 36m 7s\n",
      "10:\tlearn: 0.8451202\ttotal: 7m 28s\tremaining: 3h 33m 14s\n",
      "11:\tlearn: 0.8324369\ttotal: 8m 7s\tremaining: 3h 32m 8s\n",
      "12:\tlearn: 0.8212526\ttotal: 8m 49s\tremaining: 3h 31m 45s\n",
      "13:\tlearn: 0.8104305\ttotal: 9m 25s\tremaining: 3h 29m 19s\n",
      "14:\tlearn: 0.8011117\ttotal: 10m 2s\tremaining: 3h 27m 23s\n",
      "15:\tlearn: 0.7919241\ttotal: 10m 38s\tremaining: 3h 25m 28s\n",
      "16:\tlearn: 0.7839507\ttotal: 11m 12s\tremaining: 3h 23m 7s\n",
      "17:\tlearn: 0.7763554\ttotal: 11m 45s\tremaining: 3h 20m 37s\n",
      "18:\tlearn: 0.7692620\ttotal: 12m 20s\tremaining: 3h 18m 45s\n",
      "19:\tlearn: 0.7624911\ttotal: 12m 52s\tremaining: 3h 16m 26s\n",
      "20:\tlearn: 0.7560303\ttotal: 13m 26s\tremaining: 3h 14m 33s\n",
      "21:\tlearn: 0.7502186\ttotal: 14m 3s\tremaining: 3h 13m 38s\n",
      "22:\tlearn: 0.7438725\ttotal: 14m 35s\tremaining: 3h 11m 32s\n",
      "23:\tlearn: 0.7383911\ttotal: 15m 10s\tremaining: 3h 10m 13s\n",
      "24:\tlearn: 0.7335272\ttotal: 15m 48s\tremaining: 3h 9m 39s\n",
      "25:\tlearn: 0.7291411\ttotal: 16m 24s\tremaining: 3h 8m 45s\n",
      "26:\tlearn: 0.7263561\ttotal: 16m 26s\tremaining: 3h 1m 27s\n",
      "27:\tlearn: 0.7220691\ttotal: 17m 1s\tremaining: 3h 30s\n",
      "28:\tlearn: 0.7184509\ttotal: 17m 36s\tremaining: 2h 59m 44s\n",
      "29:\tlearn: 0.7163975\ttotal: 17m 38s\tremaining: 2h 53m 23s\n",
      "30:\tlearn: 0.7127154\ttotal: 18m 12s\tremaining: 2h 52m 37s\n",
      "31:\tlearn: 0.7091580\ttotal: 18m 48s\tremaining: 2h 52m 11s\n",
      "32:\tlearn: 0.7062303\ttotal: 19m 23s\tremaining: 2h 51m 32s\n",
      "33:\tlearn: 0.7028673\ttotal: 19m 55s\tremaining: 2h 50m 31s\n",
      "34:\tlearn: 0.6997899\ttotal: 20m 31s\tremaining: 2h 50m 3s\n",
      "35:\tlearn: 0.6963679\ttotal: 21m 7s\tremaining: 2h 49m 38s\n",
      "36:\tlearn: 0.6927954\ttotal: 21m 43s\tremaining: 2h 49m 2s\n",
      "37:\tlearn: 0.6900636\ttotal: 22m 19s\tremaining: 2h 48m 36s\n",
      "38:\tlearn: 0.6876851\ttotal: 22m 59s\tremaining: 2h 48m 38s\n",
      "39:\tlearn: 0.6854299\ttotal: 23m 33s\tremaining: 2h 47m 51s\n",
      "40:\tlearn: 0.6831304\ttotal: 24m 9s\tremaining: 2h 47m 23s\n",
      "41:\tlearn: 0.6807864\ttotal: 24m 45s\tremaining: 2h 46m 51s\n",
      "42:\tlearn: 0.6788473\ttotal: 25m 21s\tremaining: 2h 46m 20s\n",
      "43:\tlearn: 0.6759980\ttotal: 25m 57s\tremaining: 2h 45m 46s\n",
      "44:\tlearn: 0.6736572\ttotal: 26m 34s\tremaining: 2h 45m 23s\n",
      "45:\tlearn: 0.6710488\ttotal: 27m 8s\tremaining: 2h 44m 37s\n",
      "46:\tlearn: 0.6693589\ttotal: 27m 44s\tremaining: 2h 44m 6s\n",
      "47:\tlearn: 0.6681727\ttotal: 28m 21s\tremaining: 2h 43m 38s\n",
      "48:\tlearn: 0.6663845\ttotal: 28m 59s\tremaining: 2h 43m 18s\n",
      "49:\tlearn: 0.6641252\ttotal: 29m 33s\tremaining: 2h 42m 36s\n",
      "50:\tlearn: 0.6624503\ttotal: 30m 12s\tremaining: 2h 42m 18s\n",
      "51:\tlearn: 0.6612223\ttotal: 30m 48s\tremaining: 2h 41m 44s\n",
      "52:\tlearn: 0.6600757\ttotal: 31m 22s\tremaining: 2h 41m\n",
      "53:\tlearn: 0.6588855\ttotal: 32m 1s\tremaining: 2h 40m 41s\n",
      "54:\tlearn: 0.6569319\ttotal: 32m 34s\tremaining: 2h 39m 57s\n",
      "55:\tlearn: 0.6556512\ttotal: 33m 12s\tremaining: 2h 39m 30s\n",
      "56:\tlearn: 0.6540096\ttotal: 33m 49s\tremaining: 2h 39m 2s\n",
      "57:\tlearn: 0.6524825\ttotal: 34m 27s\tremaining: 2h 38m 38s\n",
      "58:\tlearn: 0.6513647\ttotal: 35m 2s\tremaining: 2h 38m 1s\n",
      "59:\tlearn: 0.6496645\ttotal: 35m 36s\tremaining: 2h 37m 15s\n",
      "60:\tlearn: 0.6482004\ttotal: 36m 12s\tremaining: 2h 36m 41s\n",
      "61:\tlearn: 0.6470332\ttotal: 36m 53s\tremaining: 2h 36m 28s\n",
      "62:\tlearn: 0.6456519\ttotal: 37m 32s\tremaining: 2h 36m 7s\n",
      "63:\tlearn: 0.6443478\ttotal: 38m 7s\tremaining: 2h 35m 26s\n",
      "64:\tlearn: 0.6428824\ttotal: 38m 42s\tremaining: 2h 34m 51s\n",
      "65:\tlearn: 0.6413826\ttotal: 39m 20s\tremaining: 2h 34m 24s\n",
      "66:\tlearn: 0.6391843\ttotal: 39m 59s\tremaining: 2h 34m\n",
      "67:\tlearn: 0.6378528\ttotal: 40m 38s\tremaining: 2h 33m 36s\n",
      "68:\tlearn: 0.6359400\ttotal: 41m 14s\tremaining: 2h 33m\n",
      "69:\tlearn: 0.6344814\ttotal: 41m 48s\tremaining: 2h 32m 19s\n",
      "70:\tlearn: 0.6330236\ttotal: 42m 21s\tremaining: 2h 31m 31s\n",
      "71:\tlearn: 0.6315134\ttotal: 42m 58s\tremaining: 2h 31m 2s\n",
      "72:\tlearn: 0.6306614\ttotal: 43m 35s\tremaining: 2h 30m 28s\n",
      "73:\tlearn: 0.6293916\ttotal: 44m 12s\tremaining: 2h 29m 56s\n",
      "74:\tlearn: 0.6277509\ttotal: 44m 54s\tremaining: 2h 29m 42s\n",
      "75:\tlearn: 0.6266404\ttotal: 45m 35s\tremaining: 2h 29m 21s\n",
      "76:\tlearn: 0.6262740\ttotal: 45m 36s\tremaining: 2h 26m 54s\n",
      "77:\tlearn: 0.6251541\ttotal: 46m 11s\tremaining: 2h 26m 16s\n",
      "78:\tlearn: 0.6242789\ttotal: 46m 56s\tremaining: 2h 26m 10s\n",
      "79:\tlearn: 0.6234917\ttotal: 47m 36s\tremaining: 2h 25m 46s\n",
      "80:\tlearn: 0.6225394\ttotal: 48m 11s\tremaining: 2h 25m 9s\n",
      "81:\tlearn: 0.6212183\ttotal: 48m 50s\tremaining: 2h 24m 44s\n",
      "82:\tlearn: 0.6200776\ttotal: 49m 25s\tremaining: 2h 24m 7s\n",
      "83:\tlearn: 0.6191091\ttotal: 49m 58s\tremaining: 2h 23m 23s\n",
      "84:\tlearn: 0.6185697\ttotal: 50m 34s\tremaining: 2h 22m 47s\n",
      "85:\tlearn: 0.6185313\ttotal: 50m 35s\tremaining: 2h 20m 36s\n",
      "86:\tlearn: 0.6177129\ttotal: 51m 18s\tremaining: 2h 20m 20s\n",
      "87:\tlearn: 0.6166555\ttotal: 52m 3s\tremaining: 2h 20m 12s\n",
      "88:\tlearn: 0.6158311\ttotal: 52m 42s\tremaining: 2h 19m 46s\n",
      "89:\tlearn: 0.6150192\ttotal: 53m 22s\tremaining: 2h 19m 21s\n",
      "90:\tlearn: 0.6139899\ttotal: 54m 3s\tremaining: 2h 18m 59s\n",
      "91:\tlearn: 0.6127508\ttotal: 54m 43s\tremaining: 2h 18m 34s\n",
      "92:\tlearn: 0.6117378\ttotal: 55m 22s\tremaining: 2h 18m 8s\n",
      "93:\tlearn: 0.6111859\ttotal: 55m 58s\tremaining: 2h 17m 34s\n",
      "94:\tlearn: 0.6101344\ttotal: 56m 39s\tremaining: 2h 17m 11s\n",
      "95:\tlearn: 0.6090917\ttotal: 57m 18s\tremaining: 2h 16m 43s\n",
      "96:\tlearn: 0.6090804\ttotal: 57m 21s\tremaining: 2h 14m 48s\n",
      "97:\tlearn: 0.6080549\ttotal: 57m 58s\tremaining: 2h 14m 17s\n",
      "98:\tlearn: 0.6068936\ttotal: 58m 35s\tremaining: 2h 13m 45s\n",
      "99:\tlearn: 0.6063651\ttotal: 59m 13s\tremaining: 2h 13m 16s\n",
      "100:\tlearn: 0.6048370\ttotal: 59m 59s\tremaining: 2h 13m 3s\n",
      "101:\tlearn: 0.6036034\ttotal: 1h 39s\tremaining: 2h 12m 35s\n",
      "102:\tlearn: 0.6026183\ttotal: 1h 1m 16s\tremaining: 2h 12m 3s\n",
      "103:\tlearn: 0.6016080\ttotal: 1h 1m 53s\tremaining: 2h 11m 30s\n",
      "104:\tlearn: 0.6007760\ttotal: 1h 2m 34s\tremaining: 2h 11m 5s\n",
      "105:\tlearn: 0.5994403\ttotal: 1h 3m 11s\tremaining: 2h 10m 33s\n",
      "106:\tlearn: 0.5993568\ttotal: 1h 3m 13s\tremaining: 2h 8m 47s\n",
      "107:\tlearn: 0.5983973\ttotal: 1h 3m 44s\tremaining: 2h 8m 4s\n",
      "108:\tlearn: 0.5976409\ttotal: 1h 4m 31s\tremaining: 2h 7m 52s\n",
      "109:\tlearn: 0.5962461\ttotal: 1h 5m 35s\tremaining: 2h 8m 11s\n",
      "110:\tlearn: 0.5954951\ttotal: 1h 6m 28s\tremaining: 2h 8m 10s\n",
      "111:\tlearn: 0.5945327\ttotal: 1h 7m 22s\tremaining: 2h 8m 8s\n",
      "112:\tlearn: 0.5929671\ttotal: 1h 8m 8s\tremaining: 2h 7m 51s\n",
      "113:\tlearn: 0.5923783\ttotal: 1h 8m 55s\tremaining: 2h 7m 33s\n",
      "114:\tlearn: 0.5915599\ttotal: 1h 9m 43s\tremaining: 2h 7m 19s\n",
      "115:\tlearn: 0.5906159\ttotal: 1h 10m 31s\tremaining: 2h 7m 4s\n",
      "116:\tlearn: 0.5896256\ttotal: 1h 11m 16s\tremaining: 2h 6m 42s\n",
      "117:\tlearn: 0.5888112\ttotal: 1h 12m 2s\tremaining: 2h 6m 23s\n",
      "118:\tlearn: 0.5879704\ttotal: 1h 12m 50s\tremaining: 2h 6m 5s\n",
      "119:\tlearn: 0.5871562\ttotal: 1h 13m 35s\tremaining: 2h 5m 43s\n",
      "120:\tlearn: 0.5860654\ttotal: 1h 14m 22s\tremaining: 2h 5m 23s\n",
      "121:\tlearn: 0.5855077\ttotal: 1h 15m 8s\tremaining: 2h 5m 2s\n",
      "122:\tlearn: 0.5845175\ttotal: 1h 15m 54s\tremaining: 2h 4m 39s\n",
      "123:\tlearn: 0.5837118\ttotal: 1h 16m 39s\tremaining: 2h 4m 15s\n",
      "124:\tlearn: 0.5830597\ttotal: 1h 17m 24s\tremaining: 2h 3m 51s\n",
      "125:\tlearn: 0.5821300\ttotal: 1h 18m 8s\tremaining: 2h 3m 24s\n",
      "126:\tlearn: 0.5813930\ttotal: 1h 18m 58s\tremaining: 2h 3m 7s\n",
      "127:\tlearn: 0.5806299\ttotal: 1h 19m 43s\tremaining: 2h 2m 42s\n",
      "128:\tlearn: 0.5799506\ttotal: 1h 20m 26s\tremaining: 2h 2m 13s\n",
      "129:\tlearn: 0.5792044\ttotal: 1h 21m 14s\tremaining: 2h 1m 51s\n",
      "130:\tlearn: 0.5786162\ttotal: 1h 21m 58s\tremaining: 2h 1m 23s\n",
      "131:\tlearn: 0.5777766\ttotal: 1h 22m 46s\tremaining: 2h 1m 2s\n",
      "132:\tlearn: 0.5769728\ttotal: 1h 23m 42s\tremaining: 2h 49s\n",
      "133:\tlearn: 0.5765791\ttotal: 1h 24m 32s\tremaining: 2h 30s\n",
      "134:\tlearn: 0.5761634\ttotal: 1h 25m 23s\tremaining: 2h 10s\n",
      "135:\tlearn: 0.5748522\ttotal: 1h 26m 19s\tremaining: 1h 59m 57s\n",
      "136:\tlearn: 0.5737267\ttotal: 1h 27m 37s\tremaining: 2h 15s\n",
      "137:\tlearn: 0.5731081\ttotal: 1h 28m 41s\tremaining: 2h 11s\n",
      "138:\tlearn: 0.5724847\ttotal: 1h 29m 32s\tremaining: 1h 59m 49s\n",
      "139:\tlearn: 0.5716388\ttotal: 1h 30m 21s\tremaining: 1h 59m 23s\n",
      "140:\tlearn: 0.5705929\ttotal: 1h 31m 11s\tremaining: 1h 58m 59s\n",
      "141:\tlearn: 0.5699401\ttotal: 1h 32m 15s\tremaining: 1h 58m 53s\n",
      "142:\tlearn: 0.5691501\ttotal: 1h 33m 20s\tremaining: 1h 58m 47s\n",
      "143:\tlearn: 0.5685822\ttotal: 1h 34m 33s\tremaining: 1h 58m 51s\n",
      "144:\tlearn: 0.5677115\ttotal: 1h 35m 48s\tremaining: 1h 58m 56s\n",
      "145:\tlearn: 0.5668372\ttotal: 1h 37m 7s\tremaining: 1h 59m 5s\n",
      "146:\tlearn: 0.5661955\ttotal: 1h 38m 24s\tremaining: 1h 59m 9s\n",
      "147:\tlearn: 0.5652766\ttotal: 1h 39m 42s\tremaining: 1h 59m 15s\n",
      "148:\tlearn: 0.5644896\ttotal: 1h 40m 43s\tremaining: 1h 58m 58s\n",
      "149:\tlearn: 0.5637795\ttotal: 1h 41m 30s\tremaining: 1h 58m 25s\n",
      "150:\tlearn: 0.5633308\ttotal: 1h 42m 30s\tremaining: 1h 58m 6s\n",
      "151:\tlearn: 0.5628251\ttotal: 1h 43m 25s\tremaining: 1h 57m 43s\n",
      "152:\tlearn: 0.5617450\ttotal: 1h 44m 17s\tremaining: 1h 57m 14s\n",
      "153:\tlearn: 0.5617448\ttotal: 1h 44m 19s\tremaining: 1h 55m 50s\n",
      "154:\tlearn: 0.5606695\ttotal: 1h 45m 12s\tremaining: 1h 55m 23s\n",
      "155:\tlearn: 0.5598765\ttotal: 1h 46m 3s\tremaining: 1h 54m 53s\n",
      "156:\tlearn: 0.5592300\ttotal: 1h 46m 53s\tremaining: 1h 54m 22s\n",
      "157:\tlearn: 0.5592067\ttotal: 1h 46m 54s\tremaining: 1h 53m\n",
      "158:\tlearn: 0.5585774\ttotal: 1h 47m 45s\tremaining: 1h 52m 29s\n",
      "159:\tlearn: 0.5579021\ttotal: 1h 48m 30s\tremaining: 1h 51m 54s\n",
      "160:\tlearn: 0.5573567\ttotal: 1h 49m 21s\tremaining: 1h 51m 23s\n",
      "161:\tlearn: 0.5573417\ttotal: 1h 49m 23s\tremaining: 1h 50m 4s\n",
      "162:\tlearn: 0.5564163\ttotal: 1h 50m 9s\tremaining: 1h 49m 29s\n",
      "163:\tlearn: 0.5558842\ttotal: 1h 50m 54s\tremaining: 1h 48m 53s\n",
      "164:\tlearn: 0.5553951\ttotal: 1h 51m 40s\tremaining: 1h 48m 17s\n",
      "165:\tlearn: 0.5549709\ttotal: 1h 52m 24s\tremaining: 1h 47m 40s\n",
      "166:\tlearn: 0.5538059\ttotal: 1h 53m 9s\tremaining: 1h 47m 3s\n",
      "167:\tlearn: 0.5530616\ttotal: 1h 54m 18s\tremaining: 1h 46m 49s\n",
      "168:\tlearn: 0.5523698\ttotal: 1h 55m 9s\tremaining: 1h 46m 17s\n",
      "169:\tlearn: 0.5517790\ttotal: 1h 56m 6s\tremaining: 1h 45m 51s\n",
      "170:\tlearn: 0.5508309\ttotal: 1h 57m 27s\tremaining: 1h 45m 46s\n",
      "171:\tlearn: 0.5507565\ttotal: 1h 57m 35s\tremaining: 1h 44m 35s\n",
      "172:\tlearn: 0.5500905\ttotal: 1h 59m 4s\tremaining: 1h 44m 37s\n",
      "173:\tlearn: 0.5494264\ttotal: 2h 10s\tremaining: 1h 44m 17s\n",
      "174:\tlearn: 0.5484882\ttotal: 2h 1m 6s\tremaining: 1h 43m 48s\n",
      "175:\tlearn: 0.5481632\ttotal: 2h 2m 5s\tremaining: 1h 43m 22s\n",
      "176:\tlearn: 0.5475524\ttotal: 2h 3m 1s\tremaining: 1h 42m 51s\n",
      "177:\tlearn: 0.5470256\ttotal: 2h 3m 59s\tremaining: 1h 42m 23s\n",
      "178:\tlearn: 0.5465300\ttotal: 2h 5m 8s\tremaining: 1h 42m 3s\n",
      "179:\tlearn: 0.5461825\ttotal: 2h 6m 26s\tremaining: 1h 41m 51s\n",
      "180:\tlearn: 0.5451914\ttotal: 2h 7m 48s\tremaining: 1h 41m 40s\n",
      "181:\tlearn: 0.5441074\ttotal: 2h 9m 9s\tremaining: 1h 41m 28s\n",
      "182:\tlearn: 0.5431454\ttotal: 2h 10m 19s\tremaining: 1h 41m 7s\n",
      "183:\tlearn: 0.5426320\ttotal: 2h 11m 19s\tremaining: 1h 40m 37s\n",
      "184:\tlearn: 0.5417118\ttotal: 2h 12m 31s\tremaining: 1h 40m 17s\n",
      "185:\tlearn: 0.5412514\ttotal: 2h 14m 10s\tremaining: 1h 40m 16s\n",
      "186:\tlearn: 0.5406891\ttotal: 2h 15m 16s\tremaining: 1h 39m 49s\n",
      "187:\tlearn: 0.5401902\ttotal: 2h 16m 24s\tremaining: 1h 39m 24s\n",
      "188:\tlearn: 0.5396398\ttotal: 2h 17m 29s\tremaining: 1h 38m 56s\n",
      "189:\tlearn: 0.5390097\ttotal: 2h 18m 40s\tremaining: 1h 38m 31s\n",
      "190:\tlearn: 0.5383243\ttotal: 2h 19m 54s\tremaining: 1h 38m 9s\n",
      "191:\tlearn: 0.5379304\ttotal: 2h 21m 43s\tremaining: 1h 38m 10s\n",
      "192:\tlearn: 0.5373873\ttotal: 2h 23m 7s\tremaining: 1h 37m 53s\n",
      "193:\tlearn: 0.5367474\ttotal: 2h 24m 37s\tremaining: 1h 37m 39s\n",
      "194:\tlearn: 0.5361130\ttotal: 2h 26m 4s\tremaining: 1h 37m 22s\n",
      "195:\tlearn: 0.5354595\ttotal: 2h 27m 37s\tremaining: 1h 37m 9s\n",
      "196:\tlearn: 0.5347136\ttotal: 2h 29m 1s\tremaining: 1h 36m 50s\n",
      "197:\tlearn: 0.5339665\ttotal: 2h 30m 55s\tremaining: 1h 36m 48s\n",
      "198:\tlearn: 0.5332422\ttotal: 2h 32m 16s\tremaining: 1h 36m 25s\n",
      "199:\tlearn: 0.5327618\ttotal: 2h 33m 30s\tremaining: 1h 35m 56s\n",
      "200:\tlearn: 0.5322598\ttotal: 2h 34m 39s\tremaining: 1h 35m 24s\n",
      "201:\tlearn: 0.5315929\ttotal: 2h 36m 1s\tremaining: 1h 35m\n",
      "202:\tlearn: 0.5307020\ttotal: 2h 37m 33s\tremaining: 1h 34m 41s\n",
      "203:\tlearn: 0.5300107\ttotal: 2h 41m 20s\tremaining: 1h 35m 41s\n",
      "204:\tlearn: 0.5297191\ttotal: 2h 42m 40s\tremaining: 1h 35m 13s\n",
      "205:\tlearn: 0.5292107\ttotal: 2h 44m 9s\tremaining: 1h 34m 49s\n",
      "206:\tlearn: 0.5288768\ttotal: 2h 46m 11s\tremaining: 1h 34m 44s\n",
      "207:\tlearn: 0.5282376\ttotal: 2h 48m 49s\tremaining: 1h 34m 57s\n",
      "208:\tlearn: 0.5275937\ttotal: 2h 50m 19s\tremaining: 1h 34m 32s\n",
      "209:\tlearn: 0.5269476\ttotal: 2h 51m 47s\tremaining: 1h 34m 4s\n",
      "210:\tlearn: 0.5261289\ttotal: 2h 53m 31s\tremaining: 1h 33m 44s\n",
      "211:\tlearn: 0.5253905\ttotal: 2h 55m 10s\tremaining: 1h 33m 22s\n",
      "212:\tlearn: 0.5247667\ttotal: 2h 56m 26s\tremaining: 1h 32m 46s\n",
      "213:\tlearn: 0.5242794\ttotal: 2h 57m 35s\tremaining: 1h 32m 6s\n",
      "214:\tlearn: 0.5238495\ttotal: 2h 58m 21s\tremaining: 1h 31m 15s\n",
      "215:\tlearn: 0.5233467\ttotal: 2h 59m 5s\tremaining: 1h 30m 22s\n",
      "216:\tlearn: 0.5224658\ttotal: 2h 59m 49s\tremaining: 1h 29m 30s\n",
      "217:\tlearn: 0.5218335\ttotal: 3h 34s\tremaining: 1h 28m 38s\n",
      "218:\tlearn: 0.5214353\ttotal: 3h 1m 19s\tremaining: 1h 27m 45s\n",
      "219:\tlearn: 0.5209360\ttotal: 3h 2m 6s\tremaining: 1h 26m 54s\n",
      "220:\tlearn: 0.5202307\ttotal: 3h 3m 3s\tremaining: 1h 26m 8s\n",
      "221:\tlearn: 0.5197068\ttotal: 3h 3m 47s\tremaining: 1h 25m 16s\n",
      "222:\tlearn: 0.5189172\ttotal: 3h 4m 42s\tremaining: 1h 24m 28s\n",
      "223:\tlearn: 0.5183629\ttotal: 3h 5m 28s\tremaining: 1h 23m 37s\n",
      "224:\tlearn: 0.5178040\ttotal: 3h 6m 15s\tremaining: 1h 22m 46s\n",
      "225:\tlearn: 0.5172119\ttotal: 3h 7m 1s\tremaining: 1h 21m 55s\n",
      "226:\tlearn: 0.5167532\ttotal: 3h 7m 52s\tremaining: 1h 21m 6s\n",
      "227:\tlearn: 0.5162870\ttotal: 3h 25m 5s\tremaining: 1h 27m 15s\n",
      "228:\tlearn: 0.5156083\ttotal: 3h 25m 5s\tremaining: 1h 27m 15s\n",
      "229:\tlearn: 0.5151463\ttotal: 3h 25m 5s\tremaining: 1h 27m 15s\n",
      "230:\tlearn: 0.5145522\ttotal: 3h 26m 44s\tremaining: 1h 24m 51s\n",
      "231:\tlearn: 0.5140432\ttotal: 3h 37m 45s\tremaining: 1h 28m 2s\n",
      "232:\tlearn: 0.5135831\ttotal: 3h 39m 12s\tremaining: 1h 27m 18s\n",
      "233:\tlearn: 0.5125879\ttotal: 3h 40m 53s\tremaining: 1h 26m 38s\n",
      "234:\tlearn: 0.5120041\ttotal: 3h 41m 55s\tremaining: 1h 25m 43s\n",
      "235:\tlearn: 0.5112633\ttotal: 3h 42m 44s\tremaining: 1h 24m 42s\n",
      "236:\tlearn: 0.5107932\ttotal: 3h 43m 28s\tremaining: 1h 23m 41s\n",
      "237:\tlearn: 0.5101495\ttotal: 3h 44m 16s\tremaining: 1h 22m 40s\n",
      "238:\tlearn: 0.5092928\ttotal: 3h 45m 7s\tremaining: 1h 21m 41s\n",
      "239:\tlearn: 0.5087712\ttotal: 3h 45m 54s\tremaining: 1h 20m 40s\n",
      "240:\tlearn: 0.5080014\ttotal: 3h 46m 42s\tremaining: 1h 19m 40s\n",
      "241:\tlearn: 0.5075357\ttotal: 3h 47m 30s\tremaining: 1h 18m 40s\n",
      "242:\tlearn: 0.5069990\ttotal: 3h 48m 18s\tremaining: 1h 17m 40s\n",
      "243:\tlearn: 0.5064087\ttotal: 3h 49m 6s\tremaining: 1h 16m 41s\n",
      "244:\tlearn: 0.5061690\ttotal: 3h 49m 55s\tremaining: 1h 15m 41s\n",
      "245:\tlearn: 0.5057337\ttotal: 3h 50m 47s\tremaining: 1h 14m 43s\n",
      "246:\tlearn: 0.5051652\ttotal: 3h 51m 34s\tremaining: 1h 13m 43s\n",
      "247:\tlearn: 0.5046247\ttotal: 3h 52m 22s\tremaining: 1h 12m 44s\n",
      "248:\tlearn: 0.5040058\ttotal: 3h 53m 9s\tremaining: 1h 11m 44s\n",
      "249:\tlearn: 0.5032894\ttotal: 3h 54m 2s\tremaining: 1h 10m 46s\n",
      "250:\tlearn: 0.5026524\ttotal: 3h 54m 48s\tremaining: 1h 9m 46s\n",
      "251:\tlearn: 0.5021156\ttotal: 3h 55m 33s\tremaining: 1h 8m 47s\n",
      "252:\tlearn: 0.5013702\ttotal: 3h 56m 20s\tremaining: 1h 7m 47s\n",
      "253:\tlearn: 0.5008053\ttotal: 3h 57m 3s\tremaining: 1h 6m 47s\n",
      "254:\tlearn: 0.5002834\ttotal: 3h 58m 1s\tremaining: 1h 5m 51s\n",
      "255:\tlearn: 0.4996680\ttotal: 3h 58m 50s\tremaining: 1h 4m 52s\n",
      "256:\tlearn: 0.4991008\ttotal: 3h 59m 36s\tremaining: 1h 3m 53s\n",
      "257:\tlearn: 0.4987177\ttotal: 4h 21s\tremaining: 1h 2m 54s\n",
      "258:\tlearn: 0.4981668\ttotal: 4h 1m 10s\tremaining: 1h 1m 56s\n",
      "259:\tlearn: 0.4975674\ttotal: 4h 1m 59s\tremaining: 1h 58s\n",
      "260:\tlearn: 0.4970683\ttotal: 4h 2m 50s\tremaining: 1h\n",
      "261:\tlearn: 0.4963794\ttotal: 4h 3m 36s\tremaining: 59m 1s\n",
      "262:\tlearn: 0.4957540\ttotal: 4h 4m 23s\tremaining: 58m 3s\n",
      "263:\tlearn: 0.4951533\ttotal: 4h 5m 22s\tremaining: 57m 7s\n",
      "264:\tlearn: 0.4946264\ttotal: 4h 7m 5s\tremaining: 56m 22s\n",
      "265:\tlearn: 0.4940300\ttotal: 4h 8m 39s\tremaining: 55m 34s\n",
      "266:\tlearn: 0.4933262\ttotal: 4h 9m 45s\tremaining: 54m 39s\n",
      "267:\tlearn: 0.4925289\ttotal: 4h 12m 42s\tremaining: 54m 9s\n",
      "268:\tlearn: 0.4921758\ttotal: 4h 17m 52s\tremaining: 54m 5s\n",
      "269:\tlearn: 0.4915751\ttotal: 4h 30m 7s\tremaining: 55m 26s\n",
      "270:\tlearn: 0.4911036\ttotal: 4h 32m 20s\tremaining: 54m 40s\n",
      "271:\tlearn: 0.4903940\ttotal: 4h 34m 2s\tremaining: 53m 47s\n",
      "272:\tlearn: 0.4899185\ttotal: 4h 39m 3s\tremaining: 53m 32s\n",
      "273:\tlearn: 0.4895566\ttotal: 4h 42m 42s\tremaining: 53m\n",
      "274:\tlearn: 0.4891142\ttotal: 4h 44m 30s\tremaining: 52m 6s\n",
      "275:\tlearn: 0.4885345\ttotal: 4h 46m 14s\tremaining: 51m 11s\n",
      "276:\tlearn: 0.4876174\ttotal: 4h 47m 38s\tremaining: 50m 12s\n",
      "277:\tlearn: 0.4872218\ttotal: 4h 48m 44s\tremaining: 49m 10s\n",
      "278:\tlearn: 0.4866403\ttotal: 4h 49m 43s\tremaining: 48m 6s\n",
      "279:\tlearn: 0.4861548\ttotal: 4h 50m 33s\tremaining: 47m 1s\n",
      "280:\tlearn: 0.4858173\ttotal: 4h 51m 35s\tremaining: 45m 59s\n",
      "281:\tlearn: 0.4852410\ttotal: 4h 52m 33s\tremaining: 44m 55s\n",
      "282:\tlearn: 0.4847272\ttotal: 4h 53m 37s\tremaining: 43m 53s\n",
      "283:\tlearn: 0.4843363\ttotal: 4h 54m 35s\tremaining: 42m 49s\n",
      "284:\tlearn: 0.4837915\ttotal: 4h 55m 28s\tremaining: 41m 45s\n",
      "285:\tlearn: 0.4834677\ttotal: 4h 56m 21s\tremaining: 40m 41s\n",
      "286:\tlearn: 0.4829716\ttotal: 4h 56m 21s\tremaining: 40m 41s\n",
      "287:\tlearn: 0.4824316\ttotal: 4h 58m 44s\tremaining: 38m 47s\n",
      "288:\tlearn: 0.4820750\ttotal: 5h 15m 54s\tremaining: 39m 45s\n",
      "289:\tlearn: 0.4816340\ttotal: 5h 17m 48s\tremaining: 38m 45s\n",
      "290:\tlearn: 0.4812225\ttotal: 5h 19m 50s\tremaining: 37m 45s\n",
      "291:\tlearn: 0.4806249\ttotal: 5h 27m 12s\tremaining: 37m 21s\n",
      "292:\tlearn: 0.4803629\ttotal: 5h 29m 24s\tremaining: 36m 20s\n",
      "293:\tlearn: 0.4798991\ttotal: 5h 31m 24s\tremaining: 35m 18s\n",
      "294:\tlearn: 0.4794711\ttotal: 5h 33m 30s\tremaining: 34m 15s\n",
      "295:\tlearn: 0.4788061\ttotal: 5h 35m 35s\tremaining: 33m 12s\n",
      "296:\tlearn: 0.4782222\ttotal: 5h 38m\tremaining: 32m 11s\n",
      "297:\tlearn: 0.4776913\ttotal: 5h 40m 7s\tremaining: 31m 7s\n",
      "298:\tlearn: 0.4772142\ttotal: 5h 42m 10s\tremaining: 30m 3s\n",
      "299:\tlearn: 0.4765896\ttotal: 5h 57m 59s\tremaining: 30m 8s\n",
      "300:\tlearn: 0.4762845\ttotal: 6h 28s\tremaining: 29m 1s\n",
      "301:\tlearn: 0.4758956\ttotal: 6h 2m 45s\tremaining: 27m 54s\n",
      "302:\tlearn: 0.4752614\ttotal: 6h 4m 59s\tremaining: 26m 45s\n",
      "303:\tlearn: 0.4746345\ttotal: 6h 6m 45s\tremaining: 25m 35s\n",
      "304:\tlearn: 0.4743256\ttotal: 6h 11m 52s\tremaining: 24m 37s\n",
      "305:\tlearn: 0.4739592\ttotal: 6h 13m 58s\tremaining: 23m 27s\n",
      "306:\tlearn: 0.4735061\ttotal: 6h 15m 56s\tremaining: 22m 15s\n",
      "307:\tlearn: 0.4729083\ttotal: 6h 18m 21s\tremaining: 21m 5s\n",
      "308:\tlearn: 0.4725891\ttotal: 6h 20m 34s\tremaining: 19m 53s\n",
      "309:\tlearn: 0.4720461\ttotal: 6h 22m 57s\tremaining: 18m 42s\n",
      "310:\tlearn: 0.4715406\ttotal: 6h 25m 7s\tremaining: 17m 30s\n",
      "311:\tlearn: 0.4710149\ttotal: 6h 27m 21s\tremaining: 16m 17s\n",
      "312:\tlearn: 0.4703268\ttotal: 6h 31m 10s\tremaining: 15m 8s\n",
      "313:\tlearn: 0.4699453\ttotal: 6h 39m 19s\tremaining: 14m 7s\n",
      "314:\tlearn: 0.4695308\ttotal: 6h 41m 19s\tremaining: 12m 51s\n",
      "315:\tlearn: 0.4688614\ttotal: 6h 43m 41s\tremaining: 11m 36s\n",
      "316:\tlearn: 0.4685027\ttotal: 6h 45m 53s\tremaining: 10m 20s\n",
      "317:\tlearn: 0.4679389\ttotal: 6h 48m 3s\tremaining: 9m 4s\n",
      "318:\tlearn: 0.4672892\ttotal: 6h 50m 23s\tremaining: 7m 47s\n",
      "319:\tlearn: 0.4667607\ttotal: 6h 51m 59s\tremaining: 6m 29s\n",
      "320:\tlearn: 0.4661396\ttotal: 6h 53m 44s\tremaining: 5m 12s\n",
      "321:\tlearn: 0.4656769\ttotal: 6h 55m 51s\tremaining: 3m 54s\n",
      "322:\tlearn: 0.4652236\ttotal: 6h 58m 6s\tremaining: 2m 36s\n",
      "323:\tlearn: 0.4647515\ttotal: 7h 16s\tremaining: 1m 18s\n",
      "324:\tlearn: 0.4641244\ttotal: 7h 2m 21s\tremaining: 0us\n"
     ]
    },
    {
     "data": {
      "text/plain": [
       "<catboost.core.CatBoostClassifier at 0x123679a60>"
      ]
     },
     "execution_count": 40,
     "metadata": {},
     "output_type": "execute_result"
    }
   ],
   "source": [
    "model.fit(\n",
    "    train_values, train_labels,\n",
    "    cat_features=categorical_features_indices,\n",
    ")"
   ]
  },
  {
   "cell_type": "code",
   "execution_count": 42,
   "metadata": {},
   "outputs": [
    {
     "data": {
      "text/plain": [
       "array([[2],\n",
       "       [2],\n",
       "       [3],\n",
       "       ...,\n",
       "       [3],\n",
       "       [2],\n",
       "       [3]])"
      ]
     },
     "execution_count": 42,
     "metadata": {},
     "output_type": "execute_result"
    }
   ],
   "source": [
    "# predict labels\n",
    "predictions = model.predict(train_values)\n",
    "predictions"
   ]
  },
  {
   "cell_type": "code",
   "execution_count": 43,
   "metadata": {},
   "outputs": [
    {
     "data": {
      "text/plain": [
       "0.8092102486176186"
      ]
     },
     "execution_count": 43,
     "metadata": {},
     "output_type": "execute_result"
    }
   ],
   "source": [
    "# score\n",
    "from sklearn.metrics import f1_score\n",
    "f1_score(train_labels, predictions, average='micro') #using micro f1 score, perfect score = 1\n",
    "#cbc2: 0.77\n",
    "#cbc3: 0.81"
   ]
  },
  {
   "cell_type": "code",
   "execution_count": 45,
   "metadata": {},
   "outputs": [],
   "source": [
    "# read test CSV\n",
    "test_values = pd.read_csv('csv_original/test_values.csv', index_col='building_id')"
   ]
  },
  {
   "cell_type": "code",
   "execution_count": 46,
   "metadata": {},
   "outputs": [
    {
     "data": {
      "text/plain": [
       "array([[3],\n",
       "       [2],\n",
       "       [2],\n",
       "       ...,\n",
       "       [2],\n",
       "       [2],\n",
       "       [2]])"
      ]
     },
     "execution_count": 46,
     "metadata": {},
     "output_type": "execute_result"
    }
   ],
   "source": [
    "# predict labels\n",
    "predictions_test = model.predict(test_values)\n",
    "predictions_test"
   ]
  },
  {
   "cell_type": "code",
   "execution_count": 54,
   "metadata": {},
   "outputs": [],
   "source": [
    "submission_format = pd.read_csv('csv_original/submission_format.csv', index_col='building_id')"
   ]
  },
  {
   "cell_type": "code",
   "execution_count": 55,
   "metadata": {},
   "outputs": [],
   "source": [
    "my_submission = pd.DataFrame(data=predictions_test,\n",
    "                             columns=submission_format.columns,\n",
    "                             index=submission_format.index)"
   ]
  },
  {
   "cell_type": "code",
   "execution_count": 56,
   "metadata": {},
   "outputs": [
    {
     "data": {
      "text/html": [
       "<div>\n",
       "<style scoped>\n",
       "    .dataframe tbody tr th:only-of-type {\n",
       "        vertical-align: middle;\n",
       "    }\n",
       "\n",
       "    .dataframe tbody tr th {\n",
       "        vertical-align: top;\n",
       "    }\n",
       "\n",
       "    .dataframe thead th {\n",
       "        text-align: right;\n",
       "    }\n",
       "</style>\n",
       "<table border=\"1\" class=\"dataframe\">\n",
       "  <thead>\n",
       "    <tr style=\"text-align: right;\">\n",
       "      <th></th>\n",
       "      <th>damage_grade</th>\n",
       "    </tr>\n",
       "    <tr>\n",
       "      <th>building_id</th>\n",
       "      <th></th>\n",
       "    </tr>\n",
       "  </thead>\n",
       "  <tbody>\n",
       "    <tr>\n",
       "      <th>300051</th>\n",
       "      <td>3</td>\n",
       "    </tr>\n",
       "    <tr>\n",
       "      <th>99355</th>\n",
       "      <td>2</td>\n",
       "    </tr>\n",
       "    <tr>\n",
       "      <th>890251</th>\n",
       "      <td>2</td>\n",
       "    </tr>\n",
       "    <tr>\n",
       "      <th>745817</th>\n",
       "      <td>2</td>\n",
       "    </tr>\n",
       "    <tr>\n",
       "      <th>421793</th>\n",
       "      <td>3</td>\n",
       "    </tr>\n",
       "  </tbody>\n",
       "</table>\n",
       "</div>"
      ],
      "text/plain": [
       "             damage_grade\n",
       "building_id              \n",
       "300051                  3\n",
       "99355                   2\n",
       "890251                  2\n",
       "745817                  2\n",
       "421793                  3"
      ]
     },
     "execution_count": 56,
     "metadata": {},
     "output_type": "execute_result"
    }
   ],
   "source": [
    "my_submission.head()"
   ]
  },
  {
   "cell_type": "code",
   "execution_count": 57,
   "metadata": {},
   "outputs": [],
   "source": [
    "#create a csv file that will be submitted to DrivenData\n",
    "#my_submission.to_csv('submission_cbc2.csv')\n",
    "my_submission.to_csv('csv_brian/submission_cbc3.csv')"
   ]
  },
  {
   "cell_type": "code",
   "execution_count": 58,
   "metadata": {},
   "outputs": [
    {
     "name": "stdout",
     "output_type": "stream",
     "text": [
      "building_id,damage_grade\n",
      "300051,3\n",
      "99355,2\n",
      "890251,2\n",
      "745817,2\n",
      "421793,3\n",
      "871976,2\n",
      "691228,2\n",
      "896100,3\n",
      "343471,2\n"
     ]
    }
   ],
   "source": [
    "#!head submission_cbc2.csv\n",
    "!head csv_brian/submission_cbc3.csv"
   ]
  }
 ],
 "metadata": {
  "kernelspec": {
   "display_name": "base",
   "language": "python",
   "name": "python3"
  },
  "language_info": {
   "codemirror_mode": {
    "name": "ipython",
    "version": 3
   },
   "file_extension": ".py",
   "mimetype": "text/x-python",
   "name": "python",
   "nbconvert_exporter": "python",
   "pygments_lexer": "ipython3",
   "version": "3.9.6"
  },
  "orig_nbformat": 4,
  "vscode": {
   "interpreter": {
    "hash": "9458c860acf0339bcae09b213314826a2078d50d83bff5e70f67ba6bbbb2d636"
   }
  }
 },
 "nbformat": 4,
 "nbformat_minor": 2
}
